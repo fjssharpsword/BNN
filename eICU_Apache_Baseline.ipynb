{
 "cells": [
  {
   "cell_type": "raw",
   "metadata": {},
   "source": [
    "EMBC2020: Prediction of Length of Stay on the Intensive Care Unit based on Bayesian Neural Networks\n",
    "1.Dataset: \n",
    "  1)eICU-CRD, https://physionet.org/content/eicu-crd/2.0/   and    https://eicu-crd.mit.edu/ \n",
    "  2)Abstract: The eICU Collaborative Research Database is a multi-center database comprising deidentified health data associated with                over 200,000 admissions to ICUs across the United States between 2014-2015. The database includes vital sign                        measurements, care plan documentation, severity of illness measures, diagnosis information, and treatment information.                Data is collected through the Philips eICU program, a critical care telehealth program that delivers information to                  caregivers at the bedside. \n",
    "  3)Table used: apacheApsVar, apachePredVar, apachePatientResult\n",
    "  \n",
    "2.Task: \n",
    "  1)Apache(Acute Physiology and Chronic Health Evaluation) IV scoring system have been used widely in the intensive care unit(ICU).\n",
    "  2)Critical care medicine Journal-2006: Acute Physiology and Chronic Health Evaluation (APACHE) IV: hospital mortality assessment for today’s critically ill patients.\n",
    "  3)Predict length of stay (los) and Mortality, considering the degree of disease but not directly mortality.\n",
    "  \n",
    "3.Model: \n",
    "  1)Apache IV/IVa\n",
    "  2)Baseline-RandomForest: \n",
    "   Balkan, Baran, and Vignesh Subbian. \"Evaluating ICU clinical severity scoring systems and machine learning applications: APACHE IV/IVa case study.\" 2018 40th Annual International Conference of the IEEE Engineering in Medicine and Biology Society (EMBC). IEEE, 2018.\n",
    "  3)Baseline-LASSO：LS+L1\n",
    "   Li, Chunling, et al. \"Prediction of Length of Stay on the Intensive Care Unit Based on Least Absolute Shrinkage and Selection Operator.\" IEEE Access 7 (2019): 110710-110721.\n",
    "  4)Baseline-SVM(Support Vector Machine),invalid\n",
    "  5)Baseline-RVM(Relevance Vector Machine),invalid"
   ]
  },
  {
   "cell_type": "raw",
   "metadata": {},
   "source": [
    "6.RVM-invalid\n",
    "https://github.com/Mind-the-Pineapple/sklearn-rvm\n",
    "More experiments will be conducted to compare the effectiveness of anti-overfitting and interpretability with Bayesian."
   ]
  },
  {
   "cell_type": "code",
   "execution_count": 1,
   "metadata": {},
   "outputs": [],
   "source": [
    "import pandas as pd\n",
    "import numpy as np\n",
    "from sklearn.metrics import mean_absolute_error, r2_score, explained_variance_score,mean_squared_error\n",
    "from math import sqrt\n",
    "from sklearn_rvm import RVR"
   ]
  },
  {
   "cell_type": "code",
   "execution_count": null,
   "metadata": {},
   "outputs": [
    {
     "name": "stdout",
     "output_type": "stream",
     "text": [
      "The shape of trainset is : 108988,53\n",
      "The shape of testset is : 27248,53\n"
     ]
    },
    {
     "name": "stderr",
     "output_type": "stream",
     "text": [
      "/root/miniconda3/lib/python3.7/site-packages/sklearn_rvm/rvm.py:278: FutureWarning: The default value of gamma will change from 'auto' to 'scale' in version 0.22 to account better for unscaled features. Set gamma explicitly to 'auto' or 'scale' to avoid this warning.\n",
      "  \"avoid this warning.\", FutureWarning)\n"
     ]
    }
   ],
   "source": [
    "#6.1 load dataset\n",
    "#trainset\n",
    "trainset = pd.read_csv(\"/data/fjsdata/physionet/eICU-CRD/EMBC2020/trainset.csv\",sep=',',index_col=['patientunitstayid']) \n",
    "print ('The shape of trainset is : %d,%d'%(trainset.shape[0],trainset.shape[1]))\n",
    "#testset\n",
    "teststet = pd.read_csv(\"/data/fjsdata/physionet/eICU-CRD/EMBC2020/testset.csv\",sep=',',index_col=['patientunitstayid'])\n",
    "print ('The shape of testset is : %d,%d'%(teststet.shape[0],teststet.shape[1]))\n",
    "\n",
    "#6.2 SVR training\n",
    "X = trainset.drop(columns=[\"actualiculos\"], inplace=False)  #feature\n",
    "y = trainset['actualiculos']#label\n",
    "clf = RVR(kernel='rbf',max_iter=2000)\n",
    "clf.fit(X, y.ravel())\n",
    "\n",
    "#6.3  prediction and evaluation\n",
    "X_test = teststet.drop(columns=[\"actualiculos\"], inplace=False)  #feature\n",
    "y_test = teststet['actualiculos']#label \n",
    "y_pred = clf.predict(X_test)\n",
    "mae = mean_absolute_error(y_test, y_pred)\n",
    "print(\"MAE Score of RVR on eICU-CRD dataset is :\", mae)  \n",
    "rmse = sqrt(mean_squared_error(y_test, y_pred))\n",
    "print(\"RMSE Score of RVR on eICU-CRD dataset is :\", rmse)  \n",
    "r2 = r2_score(y_test, y_pred)\n",
    "print(\"R^2 Score of RVR on eICU-CRD dataset is :\", r2) \n",
    "ev = explained_variance_score(y_test, y_pred)\n",
    "print(\"EV Score of RVR on eICU-CRD dataset is :\", ev)"
   ]
  },
  {
   "cell_type": "raw",
   "metadata": {},
   "source": [
    "5. SVM-invalid"
   ]
  },
  {
   "cell_type": "code",
   "execution_count": 1,
   "metadata": {},
   "outputs": [],
   "source": [
    "import pandas as pd\n",
    "import numpy as np\n",
    "from sklearn.svm import SVR\n",
    "from sklearn.metrics import mean_absolute_error, r2_score, explained_variance_score,mean_squared_error\n",
    "from math import sqrt"
   ]
  },
  {
   "cell_type": "code",
   "execution_count": 2,
   "metadata": {},
   "outputs": [
    {
     "name": "stdout",
     "output_type": "stream",
     "text": [
      "The shape of trainset is : 108988,53\n",
      "The shape of testset is : 27248,53\n"
     ]
    },
    {
     "name": "stderr",
     "output_type": "stream",
     "text": [
      "/root/miniconda3/lib/python3.7/site-packages/sklearn/svm/base.py:241: ConvergenceWarning: Solver terminated early (max_iter=2000).  Consider pre-processing your data with StandardScaler or MinMaxScaler.\n",
      "  % self.max_iter, ConvergenceWarning)\n"
     ]
    },
    {
     "name": "stdout",
     "output_type": "stream",
     "text": [
      "MAE Score of SVR on eICU-CRD dataset is : 5.57542699480618\n",
      "RMSE Score of SVR on eICU-CRD dataset is : 6.451687645777499\n",
      "R^2 Score of SVR on eICU-CRD dataset is : -1.109644575741434\n",
      "EV Score of SVR on eICU-CRD dataset is : -0.01209747607288203\n"
     ]
    }
   ],
   "source": [
    "#5.1 load dataset\n",
    "#trainset\n",
    "trainset = pd.read_csv(\"/data/fjsdata/physionet/eICU-CRD/EMBC2020/trainset.csv\",sep=',',index_col=['patientunitstayid']) \n",
    "print ('The shape of trainset is : %d,%d'%(trainset.shape[0],trainset.shape[1]))\n",
    "#testset\n",
    "teststet = pd.read_csv(\"/data/fjsdata/physionet/eICU-CRD/EMBC2020/testset.csv\",sep=',',index_col=['patientunitstayid'])\n",
    "print ('The shape of testset is : %d,%d'%(teststet.shape[0],teststet.shape[1]))\n",
    "\n",
    "#5.2 SVR training\n",
    "X = trainset.drop(columns=[\"actualiculos\"], inplace=False)  #feature\n",
    "y = trainset['actualiculos']#label\n",
    "clf = SVR(kernel='rbf', gamma=0.1, max_iter=2000, C=0.5)\n",
    "clf.fit(X, y.ravel())\n",
    "\n",
    "#5.3  prediction and evaluation\n",
    "X_test = teststet.drop(columns=[\"actualiculos\"], inplace=False)  #feature\n",
    "y_test = teststet['actualiculos']#label \n",
    "y_pred = clf.predict(X_test)\n",
    "mae = mean_absolute_error(y_test, y_pred)\n",
    "print(\"MAE Score of SVR on eICU-CRD dataset is :\", mae)  \n",
    "rmse = sqrt(mean_squared_error(y_test, y_pred))\n",
    "print(\"RMSE Score of SVR on eICU-CRD dataset is :\", rmse)  \n",
    "r2 = r2_score(y_test, y_pred)\n",
    "print(\"R^2 Score of SVR on eICU-CRD dataset is :\", r2) \n",
    "ev = explained_variance_score(y_test, y_pred)\n",
    "print(\"EV Score of SVR on eICU-CRD dataset is :\", ev)"
   ]
  },
  {
   "cell_type": "raw",
   "metadata": {},
   "source": [
    "4.Least Square+L1 Regularization\n",
    "More experiments will be conducted to compare the effectiveness of anti-overfitting and interpretability."
   ]
  },
  {
   "cell_type": "code",
   "execution_count": 1,
   "metadata": {},
   "outputs": [],
   "source": [
    "import pandas as pd\n",
    "import numpy as np\n",
    "from sklearn import linear_model\n",
    "from sklearn.metrics import mean_absolute_error, r2_score, explained_variance_score,mean_squared_error\n",
    "from math import sqrt\n",
    "from sklearn.model_selection import GridSearchCV"
   ]
  },
  {
   "cell_type": "code",
   "execution_count": 2,
   "metadata": {},
   "outputs": [
    {
     "name": "stdout",
     "output_type": "stream",
     "text": [
      "The shape of trainset is : 108988,53\n",
      "The shape of testset is : 27248,53\n",
      "MAE Score of LS+L1 on eICU-CRD dataset is : 2.0137342960250932\n",
      "RMSE Score of LS+L1 on eICU-CRD dataset is : 4.2358698518271085\n",
      "R^2 Score of LS+L1 on eICU-CRD dataset is : 0.0906148821108681\n",
      "EV Score of LS+L1 on eICU-CRD dataset is : 0.09066660186217923\n"
     ]
    }
   ],
   "source": [
    "#4.1 load dataset\n",
    "#trainset\n",
    "trainset = pd.read_csv(\"/data/fjsdata/physionet/eICU-CRD/EMBC2020/trainset.csv\",sep=',',index_col=['patientunitstayid']) \n",
    "print ('The shape of trainset is : %d,%d'%(trainset.shape[0],trainset.shape[1]))\n",
    "#testset\n",
    "teststet = pd.read_csv(\"/data/fjsdata/physionet/eICU-CRD/EMBC2020/testset.csv\",sep=',',index_col=['patientunitstayid'])\n",
    "print ('The shape of testset is : %d,%d'%(teststet.shape[0],teststet.shape[1]))\n",
    "\n",
    "#4.2 LR+L1 training\n",
    "X = trainset.drop(columns=[\"actualiculos\"], inplace=False)  #feature\n",
    "y = trainset['actualiculos']#label\n",
    "param_grid = {'fit_intercept':[True,False],'alpha':[0.01,0.05,0.1,0.5]}\n",
    "clf = linear_model.Lasso(normalize=False,random_state=0) #max_iter\n",
    "grid_clf = GridSearchCV(clf, param_grid, cv=5)\n",
    "grid_clf.fit(X, y.ravel())\n",
    "\n",
    "#4.3 prediction and evaluation\n",
    "X_test = teststet.drop(columns=[\"actualiculos\"], inplace=False)  #feature\n",
    "y_test = teststet['actualiculos']#label \n",
    "y_pred = grid_clf.predict(X_test)\n",
    "mae = mean_absolute_error(y_test, y_pred)\n",
    "print(\"MAE Score of LS+L1 on eICU-CRD dataset is :\", mae)  \n",
    "rmse = sqrt(mean_squared_error(y_test, y_pred))\n",
    "print(\"RMSE Score of LS+L1 on eICU-CRD dataset is :\", rmse)  \n",
    "r2 = r2_score(y_test, y_pred)\n",
    "print(\"R^2 Score of LS+L1 on eICU-CRD dataset is :\", r2) \n",
    "ev = explained_variance_score(y_test, y_pred)\n",
    "print(\"EV Score of LS+L1 on eICU-CRD dataset is :\", ev)"
   ]
  },
  {
   "cell_type": "raw",
   "metadata": {},
   "source": [
    "3.RF Evaluation"
   ]
  },
  {
   "cell_type": "code",
   "execution_count": 1,
   "metadata": {},
   "outputs": [],
   "source": [
    "import pandas as pd\n",
    "import numpy as np\n",
    "from sklearn.ensemble import RandomForestRegressor\n",
    "from sklearn.metrics import mean_absolute_error, r2_score, explained_variance_score,mean_squared_error\n",
    "from math import sqrt\n",
    "from sklearn.model_selection import GridSearchCV"
   ]
  },
  {
   "cell_type": "code",
   "execution_count": 2,
   "metadata": {},
   "outputs": [
    {
     "name": "stdout",
     "output_type": "stream",
     "text": [
      "The shape of trainset is : 108988,53\n",
      "The shape of testset is : 27248,53\n",
      "MAE Score of RandomForest on eICU-CRD dataset is : 1.9682482116184594\n",
      "RMSE Score of RandomForest on eICU-CRD dataset is : 4.186211226825111\n",
      "R^2 Score of RandomForest on eICU-CRD dataset is : 0.1118119960986127\n",
      "EV Score of RandomForest on eICU-CRD dataset is : 0.11184313747406005\n"
     ]
    }
   ],
   "source": [
    "#3.1 load dataset\n",
    "#trainset\n",
    "trainset = pd.read_csv(\"/data/fjsdata/physionet/eICU-CRD/EMBC2020/trainset.csv\",sep=',',index_col=['patientunitstayid']) \n",
    "print ('The shape of trainset is : %d,%d'%(trainset.shape[0],trainset.shape[1]))\n",
    "#testset\n",
    "teststet = pd.read_csv(\"/data/fjsdata/physionet/eICU-CRD/EMBC2020/testset.csv\",sep=',',index_col=['patientunitstayid'])\n",
    "print ('The shape of testset is : %d,%d'%(teststet.shape[0],teststet.shape[1]))\n",
    "\n",
    "#3.2 RF training\n",
    "X = trainset.drop(columns=[\"actualiculos\"], inplace=False)  #feature\n",
    "y = trainset['actualiculos']#label\n",
    "param_grid = { 'n_estimators': [5, 10, 15, 20], 'max_depth': [10, 20, 30, 50] }\n",
    "clf = RandomForestRegressor(max_features='sqrt', min_samples_split=110, min_samples_leaf=20, oob_score=False, random_state=0)\n",
    "grid_clf = GridSearchCV(clf, param_grid, cv=5)\n",
    "grid_clf.fit(X, y.ravel())\n",
    "\n",
    "#3.3 prediction and evaluation\n",
    "X_test = teststet.drop(columns=[\"actualiculos\"], inplace=False)  #feature\n",
    "y_test = teststet['actualiculos']#label \n",
    "y_pred = grid_clf.predict(X_test)\n",
    "mae = mean_absolute_error(y_test, y_pred)\n",
    "print(\"MAE Score of RandomForest on eICU-CRD dataset is :\", mae)  \n",
    "rmse = sqrt(mean_squared_error(y_test, y_pred))\n",
    "print(\"RMSE Score of RandomForest on eICU-CRD dataset is :\", rmse)  \n",
    "r2 = r2_score(y_test, y_pred)\n",
    "print(\"R^2 Score of RandomForest on eICU-CRD dataset is :\", r2) \n",
    "ev = explained_variance_score(y_test, y_pred)\n",
    "print(\"EV Score of RandomForest on eICU-CRD dataset is :\", ev)"
   ]
  },
  {
   "cell_type": "raw",
   "metadata": {},
   "source": [
    "2. ApacheIV/IVa Evalution"
   ]
  },
  {
   "cell_type": "code",
   "execution_count": 1,
   "metadata": {},
   "outputs": [],
   "source": [
    "import pandas as pd\n",
    "import numpy as np\n",
    "from sklearn.metrics import mean_absolute_error, r2_score, explained_variance_score,mean_squared_error\n",
    "from math import sqrt"
   ]
  },
  {
   "cell_type": "code",
   "execution_count": 2,
   "metadata": {},
   "outputs": [
    {
     "name": "stdout",
     "output_type": "stream",
     "text": [
      "The shape of ApacheIV is : 27248,2\n",
      "The shape of ApacheIVa is : 27248,2\n",
      "MAE Score of ApacheIV on eICU-CRD dataset is : 2.250560756750709\n",
      "RMSE Score of ApacheIV on eICU-CRD dataset is : 4.289074218220265\n",
      "R^2 Score of ApacheIV on eICU-CRD dataset is : 0.06762686874463264\n",
      "EV Score of ApacheIV on eICU-CRD dataset is : 0.07628212872943518\n",
      "MAE Score of ApacheIV on eICU-CRD dataset is : 2.4540459386771154\n",
      "RMSE Score of ApacheIV on eICU-CRD dataset is : 4.379843254866504\n",
      "R^2 Score of ApacheIV on eICU-CRD dataset is : 0.027745943839827536\n",
      "EV Score of ApacheIV on eICU-CRD dataset is : 0.0658870874517633\n"
     ]
    }
   ],
   "source": [
    "#2.1 load prediction \n",
    "#prediction of ApacheIV\n",
    "ApacheIV = pd.read_csv(\"/data/fjsdata/physionet/eICU-CRD/EMBC2020/ApacheIV.csv\",sep=',',index_col=['patientunitstayid']) \n",
    "print ('The shape of ApacheIV is : %d,%d'%(ApacheIV.shape[0],ApacheIV.shape[1]))\n",
    "#prediction of ApacheIVa\n",
    "ApacheIVa = pd.read_csv(\"/data/fjsdata/physionet/eICU-CRD/EMBC2020/ApacheIVa.csv\",sep=',',index_col=['patientunitstayid'])\n",
    "print ('The shape of ApacheIVa is : %d,%d'%(ApacheIVa.shape[0],ApacheIVa.shape[1]))\n",
    "\n",
    "#2.2 Performance metrics of ApacheIV: MAE,RMSE,R^2,EV\n",
    "apacheIV_mae = mean_absolute_error(ApacheIV['actualiculos'], ApacheIV['predictediculos'])\n",
    "print(\"MAE Score of ApacheIV on eICU-CRD dataset is :\", apacheIV_mae)  \n",
    "apacheIV_rmse = sqrt(mean_squared_error(ApacheIV['actualiculos'], ApacheIV['predictediculos']))\n",
    "print(\"RMSE Score of ApacheIV on eICU-CRD dataset is :\", apacheIV_rmse)  \n",
    "apacheIV_r2 = r2_score(ApacheIV['actualiculos'], ApacheIV['predictediculos'])\n",
    "print(\"R^2 Score of ApacheIV on eICU-CRD dataset is :\", apacheIV_r2) \n",
    "apacheIV_ev = explained_variance_score(ApacheIV['actualiculos'], ApacheIV['predictediculos'])\n",
    "print(\"EV Score of ApacheIV on eICU-CRD dataset is :\", apacheIV_ev) \n",
    "\n",
    "#2.3 Performance metrics of ApacheIVa: MAE,RMSE,R^2,EV\n",
    "apacheIVa_mae = mean_absolute_error(ApacheIVa['actualiculos'], ApacheIVa['predictediculos'])\n",
    "print(\"MAE Score of ApacheIVa on eICU-CRD dataset is :\", apacheIVa_mae)  \n",
    "apacheIVa_rmse = sqrt(mean_squared_error(ApacheIVa['actualiculos'], ApacheIVa['predictediculos']))\n",
    "print(\"RMSE Score of ApacheIVa on eICU-CRD dataset is :\", apacheIVa_rmse)  \n",
    "apacheIVa_r2 = r2_score(ApacheIVa['actualiculos'], ApacheIVa['predictediculos'])\n",
    "print(\"R^2 Score of ApacheIVa on eICU-CRD dataset is :\", apacheIVa_r2) \n",
    "apacheIVa_ev = explained_variance_score(ApacheIVa['actualiculos'], ApacheIVa['predictediculos'])\n",
    "print(\"EV Score of ApacheIVa on eICU-CRD dataset is :\", apacheIVa_ev)"
   ]
  },
  {
   "cell_type": "raw",
   "metadata": {},
   "source": [
    "1.Load eICU-CRD dataset and prepare the trainset and testset.\n",
    "reference: \n",
    "Table apacheApsVar: https://eicu-crd.mit.edu/eicutables/apacheapsvar/\n",
    "Table apachePredVar: https://eicu-crd.mit.edu/eicutables/apachepredvar/\n",
    "Table apachePatientResult: https://eicu-crd.mit.edu/eicutables/apachepatientresult/"
   ]
  },
  {
   "cell_type": "code",
   "execution_count": 1,
   "metadata": {},
   "outputs": [],
   "source": [
    "import pandas as pd\n",
    "from sklearn.ensemble import RandomForestRegressor\n",
    "from sklearn.preprocessing import LabelEncoder\n",
    "from sklearn.metrics import mean_absolute_error, r2_score, explained_variance_score\n",
    "from sklearn.model_selection import train_test_split\n",
    "from sklearn.preprocessing import MinMaxScaler"
   ]
  },
  {
   "cell_type": "code",
   "execution_count": 2,
   "metadata": {},
   "outputs": [
    {
     "name": "stderr",
     "output_type": "stream",
     "text": [
      "/root/miniconda3/lib/python3.7/site-packages/sklearn/preprocessing/label.py:235: DataConversionWarning: A column-vector y was passed when a 1d array was expected. Please change the shape of y to (n_samples, ), for example using ravel().\n",
      "  y = column_or_1d(y, warn=True)\n"
     ]
    },
    {
     "name": "stdout",
     "output_type": "stream",
     "text": [
      "The name of columns of dataset are: Index(['intubated', 'vent', 'dialysis', 'eyes', 'motor', 'verbal', 'meds',\n",
      "       'urine', 'wbc', 'temperature', 'respiratoryrate', 'sodium', 'heartrate',\n",
      "       'meanbp', 'ph', 'hematocrit', 'creatinine', 'albumin', 'pao2', 'pco2',\n",
      "       'bun', 'glucose', 'bilirubin', 'fio2', 'age', 'thrombolytics', 'aids',\n",
      "       'hepaticfailure', 'lymphoma', 'metastaticcancer', 'leukemia',\n",
      "       'immunosuppression', 'cirrhosis', 'electivesurgery', 'readmit',\n",
      "       'visitnumber', 'diagnosis'],\n",
      "      dtype='object')\n",
      "The shape of trainset is : 108988,53\n",
      "The shape of testset is : 27248,53\n"
     ]
    }
   ],
   "source": [
    "#1.1 load APS data\n",
    "dataApsVar = pd.read_csv(\"/data/fjsdata/physionet/eICU-CRD/apacheApsVar.csv\")    # Acute Physiology Score, APS\n",
    "dataApsVar.drop(columns=[\"apacheapsvarid\"], inplace=True)  # get rid of \"apacheapsvarid\"\n",
    "\n",
    "#1.2 load chronic data\n",
    "dataPredVar = pd.read_csv(\"/data/fjsdata/physionet/eICU-CRD/apachePredVar.csv\")  # Chronic and patient information\n",
    "#get the diagnostic text firstly.\n",
    "admit_diagnosis = dataPredVar.loc[:, ['admitdiagnosis']]  #diagnostic text\n",
    "admit_diagnosis.fillna('-1', inplace=True)  # fill NaN with unknown, add a category\n",
    "admit_diagnosis = LabelEncoder().fit_transform(admit_diagnosis)  #encoder\n",
    "#Select necessary features\n",
    "dataPredVar = dataPredVar[['age','thrombolytics','aids','hepaticfailure','lymphoma','metastaticcancer',\n",
    "                            'leukemia','immunosuppression','cirrhosis','electivesurgery','readmit','visitnumber']] \n",
    "\n",
    "#1.3 Concate table apacheApsVar and apachePredVar to form features dataset.\n",
    "dataApache = pd.concat([dataApsVar, dataPredVar], axis=1)\n",
    "dataApache['age'].fillna(dataApache['age'].mean(), inplace=True)  # fill NaN of field age with mean\n",
    "dataApache['electivesurgery'].fillna(-1, inplace=True)  # fill NaN of field electivesurgery with -1, add a category\n",
    "dataApache.set_index([\"patientunitstayid\"], inplace=True)  # set patientunitstayid as index\n",
    "dataApache['diagnosis'] = admit_diagnosis #add feature diagnosis\n",
    "\n",
    "#1.4 load label dataset, includes Length of Stay  and Mordality.\n",
    "dataPatientResult =  pd.read_csv(\"/data/fjsdata/physionet/eICU-CRD/apachePatientResult.csv\")\n",
    "\n",
    "#1.5 Summary the valid index according to the table apachePatientResult\n",
    "neg_index = dataPatientResult[dataPatientResult['predictedhospitallos'].values == -1].index  # find index with invalid label \n",
    "dataPatientResult.drop(index=neg_index, inplace=True)  #drop invalid index\n",
    "saveid = dataPatientResult['patientunitstayid']  # valid index\n",
    "saveid.drop_duplicates(keep='first',inplace=True)  # delete duplicate index\n",
    "dataApache = dataApache.loc[saveid.values]  # get index with valid label\n",
    "print ('The name of columns of dataset are: %s'%(dataApache.columns))\n",
    "\n",
    "#1.6 Feature processing\n",
    "#min-max scale the continous features\n",
    "ss = MinMaxScaler()\n",
    "scale_features = ['urine', 'wbc', 'temperature','respiratoryrate','sodium','heartrate','meanbp',\n",
    "                  'hematocrit','pao2','pco2','bun','glucose','fio2','age']\n",
    "dataApache[scale_features] = ss.fit_transform(dataApache[scale_features])\n",
    "#one-hot the discrete features\n",
    "categorical_features = ['eyes', 'motor', 'verbal']\n",
    "dataApache = pd.get_dummies(dataApache, columns = categorical_features)#onehot\n",
    "\n",
    "#1.7 get Label LoS\n",
    "gp = dataPatientResult.groupby(['apacheversion'])\n",
    "val = []\n",
    "for i in gp:\n",
    "    val.append(i[1])\n",
    "# Separate according to version IV and IVa\n",
    "val[1].index = dataApache.index   \n",
    "val[0].index = dataApache.index\n",
    "ApacheIV = val[0][['predictediculos','actualiculos']] #ApacheIV prediction\n",
    "ApacheIVa = val[1][['predictediculos','actualiculos']] #ApacheIVa prediction\n",
    "dataApache_LoS = val[1]['actualiculos']  # Label of LoS\n",
    "\n",
    "#1.8 Split and store the datset into trainset and testset\n",
    "X_train, X_test, y_train, y_test = train_test_split(dataApache, dataApache_LoS, test_size=0.2, random_state=0) #8:2\n",
    "trainset = pd.concat([X_train, y_train], axis=1)\n",
    "trainset.to_csv('/data/fjsdata/physionet/eICU-CRD/EMBC2020/trainset.csv', sep=',', encoding='utf-8') #store index\n",
    "print ('The shape of trainset is : %d,%d'%(trainset.shape[0],trainset.shape[1]))\n",
    "testset = pd.concat([X_test, y_test], axis=1)\n",
    "testset.to_csv('/data/fjsdata/physionet/eICU-CRD/EMBC2020/testset.csv', sep=',', encoding='utf-8') #store index\n",
    "print ('The shape of testset is : %d,%d'%(testset.shape[0],testset.shape[1]))\n",
    "ApacheIV = ApacheIV.loc[testset.index]\n",
    "ApacheIV.to_csv('/data/fjsdata/physionet/eICU-CRD/EMBC2020/ApacheIV.csv', sep=',', encoding='utf-8') #store index\n",
    "ApacheIVa = ApacheIVa.loc[testset.index]\n",
    "ApacheIVa.to_csv('/data/fjsdata/physionet/eICU-CRD/EMBC2020/ApacheIVa.csv', sep=',', encoding='utf-8') #store index\n",
    "assert ApacheIV.shape[0] == ApacheIVa.shape[0] and ApacheIV.shape[0] == testset.shape[0]"
   ]
  }
 ],
 "metadata": {
  "kernelspec": {
   "display_name": "python3.7",
   "language": "python",
   "name": "python3.7"
  },
  "language_info": {
   "codemirror_mode": {
    "name": "ipython",
    "version": 3
   },
   "file_extension": ".py",
   "mimetype": "text/x-python",
   "name": "python",
   "nbconvert_exporter": "python",
   "pygments_lexer": "ipython3",
   "version": "3.7.4"
  }
 },
 "nbformat": 4,
 "nbformat_minor": 2
}
